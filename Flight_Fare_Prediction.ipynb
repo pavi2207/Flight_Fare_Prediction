{
  "cells": [
    {
      "cell_type": "code",
      "execution_count": null,
      "id": "764cf35c",
      "metadata": {
        "id": "764cf35c"
      },
      "outputs": [],
      "source": [
        "import pandas as pd\n",
        "import numpy as np\n",
        "import matplotlib.pyplot as plt\n",
        "%matplotlib inline\n",
        "import seaborn as sns"
      ]
    },
    {
      "cell_type": "markdown",
      "id": "98b7178c",
      "metadata": {
        "id": "98b7178c"
      },
      "source": [
        "### Reading our Data set"
      ]
    },
    {
      "cell_type": "code",
      "execution_count": null,
      "id": "0e6fe1f7",
      "metadata": {
        "id": "0e6fe1f7"
      },
      "outputs": [],
      "source": [
        "df= pd.read_csv(\"/content/drive/MyDrive/flight data.csv\")"
      ]
    },
    {
      "cell_type": "code",
      "execution_count": null,
      "id": "0378a680",
      "metadata": {
        "id": "0378a680"
      },
      "outputs": [],
      "source": [
        "df.head()"
      ]
    },
    {
      "cell_type": "code",
      "execution_count": null,
      "id": "54fc1c9c",
      "metadata": {
        "id": "54fc1c9c"
      },
      "outputs": [],
      "source": [
        "df.shape"
      ]
    },
    {
      "cell_type": "code",
      "execution_count": null,
      "id": "5ee24e9a",
      "metadata": {
        "id": "5ee24e9a"
      },
      "outputs": [],
      "source": [
        "df1= pd.read_csv(\"/content/drive/MyDrive/flight test.csv\")"
      ]
    },
    {
      "cell_type": "code",
      "execution_count": null,
      "id": "46538d88",
      "metadata": {
        "id": "46538d88"
      },
      "outputs": [],
      "source": [
        "df1.head()"
      ]
    },
    {
      "cell_type": "code",
      "execution_count": null,
      "id": "e87f7e7a",
      "metadata": {
        "id": "e87f7e7a"
      },
      "outputs": [],
      "source": [
        "df1.shape"
      ]
    },
    {
      "cell_type": "markdown",
      "id": "b60ea8e7",
      "metadata": {
        "id": "b60ea8e7"
      },
      "source": [
        "### We will combine both the data for the purpose of Feature Engineering"
      ]
    },
    {
      "cell_type": "code",
      "execution_count": null,
      "id": "feddbe73",
      "metadata": {
        "id": "feddbe73"
      },
      "outputs": [],
      "source": [
        "total_df= df.append(df1,sort= False)"
      ]
    },
    {
      "cell_type": "code",
      "execution_count": null,
      "id": "21f8346b",
      "metadata": {
        "id": "21f8346b"
      },
      "outputs": [],
      "source": [
        "total_df.tail()"
      ]
    },
    {
      "cell_type": "code",
      "execution_count": null,
      "id": "a89da9b1",
      "metadata": {
        "id": "a89da9b1"
      },
      "outputs": [],
      "source": [
        "total_df.head()"
      ]
    },
    {
      "cell_type": "code",
      "execution_count": null,
      "id": "567bac47",
      "metadata": {
        "id": "567bac47"
      },
      "outputs": [],
      "source": [
        "total_df.shape"
      ]
    },
    {
      "cell_type": "markdown",
      "id": "73f81240",
      "metadata": {
        "id": "73f81240"
      },
      "source": [
        "### Understanding our Data"
      ]
    },
    {
      "cell_type": "markdown",
      "id": "bd527a32",
      "metadata": {
        "id": "bd527a32"
      },
      "source": [
        "### Data Analysis"
      ]
    },
    {
      "cell_type": "markdown",
      "id": "28eb6130",
      "metadata": {
        "id": "28eb6130"
      },
      "source": [
        "#### We will be doing this on our Train data only"
      ]
    },
    {
      "cell_type": "code",
      "execution_count": null,
      "id": "1d109672",
      "metadata": {
        "id": "1d109672"
      },
      "outputs": [],
      "source": [
        "df['Airline'].value_counts() ## checking for airline data"
      ]
    },
    {
      "cell_type": "markdown",
      "id": "a3531169",
      "metadata": {
        "id": "a3531169"
      },
      "source": [
        "### Let's see the relation b/w airline and price"
      ]
    },
    {
      "cell_type": "code",
      "execution_count": null,
      "id": "bcff41da",
      "metadata": {
        "id": "bcff41da"
      },
      "outputs": [],
      "source": [
        "sns.catplot(y='Price',x='Airline',data= df.sort_values('Price',ascending=False),kind=\"boxen\",height=6, aspect=3)\n",
        "plt.show"
      ]
    },
    {
      "cell_type": "markdown",
      "id": "23a81688",
      "metadata": {
        "id": "23a81688"
      },
      "source": [
        "#### Jet airways business have the highest fare"
      ]
    },
    {
      "cell_type": "code",
      "execution_count": null,
      "id": "fd73a7af",
      "metadata": {
        "id": "fd73a7af"
      },
      "outputs": [],
      "source": [
        "df['Source'].value_counts() ## checking for Source"
      ]
    },
    {
      "cell_type": "markdown",
      "id": "d5b759ea",
      "metadata": {
        "id": "d5b759ea"
      },
      "source": [
        "### Finding relation b/w Source and price"
      ]
    },
    {
      "cell_type": "code",
      "execution_count": null,
      "id": "8bc3059c",
      "metadata": {
        "id": "8bc3059c"
      },
      "outputs": [],
      "source": [
        "sns.catplot(y='Price',x='Source',data= df.sort_values('Price',ascending=False),kind=\"boxen\",height=6, aspect=3)\n",
        "plt.show"
      ]
    },
    {
      "cell_type": "code",
      "execution_count": null,
      "id": "50887e37",
      "metadata": {
        "id": "50887e37"
      },
      "outputs": [],
      "source": [
        "df['Destination'].value_counts() ## checking for Destination"
      ]
    },
    {
      "cell_type": "markdown",
      "id": "92578f4d",
      "metadata": {
        "id": "92578f4d"
      },
      "source": [
        "### Doing the same for destination"
      ]
    },
    {
      "cell_type": "code",
      "execution_count": null,
      "id": "13311f85",
      "metadata": {
        "id": "13311f85"
      },
      "outputs": [],
      "source": [
        "sns.catplot(y='Price',x='Destination',data= df.sort_values('Price',ascending=False),kind=\"boxen\",height=6, aspect=3)\n",
        "plt.show"
      ]
    },
    {
      "cell_type": "code",
      "execution_count": null,
      "id": "c8802e9b",
      "metadata": {
        "id": "c8802e9b"
      },
      "outputs": [],
      "source": [
        "df['Duration'].value_counts()"
      ]
    },
    {
      "cell_type": "markdown",
      "id": "fa091487",
      "metadata": {
        "id": "fa091487"
      },
      "source": [
        "### Feature Engineering"
      ]
    },
    {
      "cell_type": "code",
      "execution_count": null,
      "id": "58a0180a",
      "metadata": {
        "id": "58a0180a"
      },
      "outputs": [],
      "source": [
        "total_df['Date']=total_df['Date_of_Journey'].str.split('/').str[0]\n",
        "total_df['Month']=total_df['Date_of_Journey'].str.split('/').str[1]\n",
        "total_df['Year']=total_df['Date_of_Journey'].str.split('/').str[2]"
      ]
    },
    {
      "cell_type": "code",
      "execution_count": null,
      "id": "3e2edca8",
      "metadata": {
        "id": "3e2edca8"
      },
      "outputs": [],
      "source": [
        "total_df.head()"
      ]
    },
    {
      "cell_type": "code",
      "execution_count": null,
      "id": "ac141cfc",
      "metadata": {
        "id": "ac141cfc"
      },
      "outputs": [],
      "source": [
        "total_df=total_df.drop(['Date_of_Journey'],axis=1)"
      ]
    },
    {
      "cell_type": "code",
      "execution_count": null,
      "id": "f46a34a9",
      "metadata": {
        "id": "f46a34a9"
      },
      "outputs": [],
      "source": [
        "total_df.dtypes"
      ]
    },
    {
      "cell_type": "code",
      "execution_count": null,
      "id": "6f9fbab3",
      "metadata": {
        "id": "6f9fbab3"
      },
      "outputs": [],
      "source": [
        "total_df['Date']=total_df['Date'].astype(int)\n",
        "total_df['Month']=total_df['Month'].astype(int)\n",
        "total_df['Year']=total_df['Year'].astype(int)"
      ]
    },
    {
      "cell_type": "code",
      "execution_count": null,
      "id": "97d6e70b",
      "metadata": {
        "id": "97d6e70b"
      },
      "outputs": [],
      "source": [
        "total_df.dtypes"
      ]
    },
    {
      "cell_type": "code",
      "execution_count": null,
      "id": "51a5bfb5",
      "metadata": {
        "id": "51a5bfb5"
      },
      "outputs": [],
      "source": [
        "total_df.head()"
      ]
    },
    {
      "cell_type": "markdown",
      "id": "f2c1aba7",
      "metadata": {
        "id": "f2c1aba7"
      },
      "source": [
        "### Let's see if Additional Info has any effect on price"
      ]
    },
    {
      "cell_type": "code",
      "execution_count": null,
      "id": "bd294f7b",
      "metadata": {
        "id": "bd294f7b"
      },
      "outputs": [],
      "source": [
        "total_df['Additional_Info'].value_counts()"
      ]
    },
    {
      "cell_type": "code",
      "execution_count": null,
      "id": "03cc9780",
      "metadata": {
        "id": "03cc9780"
      },
      "outputs": [],
      "source": [
        "sns.catplot(y='Price',x='Additional_Info',data= df.sort_values('Price',ascending=False),kind=\"boxen\",height=6, aspect=3)\n",
        "plt.show"
      ]
    },
    {
      "cell_type": "markdown",
      "id": "89e35256",
      "metadata": {
        "id": "89e35256"
      },
      "source": [
        "### Filtering the Arrival Time"
      ]
    },
    {
      "cell_type": "code",
      "execution_count": null,
      "id": "c17ebd9e",
      "metadata": {
        "id": "c17ebd9e"
      },
      "outputs": [],
      "source": [
        "total_df['Arrival_Time']=total_df['Arrival_Time'].str.split(' ').str[0]"
      ]
    },
    {
      "cell_type": "code",
      "execution_count": null,
      "id": "1db38991",
      "metadata": {
        "id": "1db38991"
      },
      "outputs": [],
      "source": [
        "total_df.head()"
      ]
    },
    {
      "cell_type": "markdown",
      "id": "b0fbb2a2",
      "metadata": {
        "id": "b0fbb2a2"
      },
      "source": [
        "### Let's anlyse our Stop coloumn"
      ]
    },
    {
      "cell_type": "code",
      "execution_count": null,
      "id": "b2a4f88b",
      "metadata": {
        "id": "b2a4f88b"
      },
      "outputs": [],
      "source": [
        "total_df['Total_Stops'].value_counts()"
      ]
    },
    {
      "cell_type": "code",
      "execution_count": null,
      "id": "dd64da25",
      "metadata": {
        "id": "dd64da25"
      },
      "outputs": [],
      "source": [
        "total_df['Total_Stops']=total_df['Total_Stops'].fillna('1 stop')"
      ]
    },
    {
      "cell_type": "code",
      "execution_count": null,
      "id": "4ae59ad9",
      "metadata": {
        "id": "4ae59ad9"
      },
      "outputs": [],
      "source": [
        "total_df['Total_Stops'].isnull().sum()"
      ]
    },
    {
      "cell_type": "markdown",
      "id": "86884b6e",
      "metadata": {
        "id": "86884b6e"
      },
      "source": [
        "### Let us make the Stop column numeric"
      ]
    },
    {
      "cell_type": "code",
      "execution_count": null,
      "id": "951f9a5e",
      "metadata": {
        "id": "951f9a5e"
      },
      "outputs": [],
      "source": [
        "total_df['Total_Stops']=total_df['Total_Stops'].replace('non-stop','0 stop')"
      ]
    },
    {
      "cell_type": "code",
      "execution_count": null,
      "id": "ce044a5a",
      "metadata": {
        "id": "ce044a5a"
      },
      "outputs": [],
      "source": [
        "total_df.head()"
      ]
    },
    {
      "cell_type": "code",
      "execution_count": null,
      "id": "f3a42ce8",
      "metadata": {
        "id": "f3a42ce8"
      },
      "outputs": [],
      "source": [
        "total_df['Stop'] = total_df['Total_Stops'].str.split(' ').str[0]"
      ]
    },
    {
      "cell_type": "code",
      "execution_count": null,
      "id": "9c5cea6f",
      "metadata": {
        "id": "9c5cea6f"
      },
      "outputs": [],
      "source": [
        "total_df.head()"
      ]
    },
    {
      "cell_type": "code",
      "execution_count": null,
      "id": "5f07cbee",
      "metadata": {
        "id": "5f07cbee"
      },
      "outputs": [],
      "source": [
        "total_df=total_df.drop(['Total_Stops'],axis=1)"
      ]
    },
    {
      "cell_type": "code",
      "execution_count": null,
      "id": "96c7a6e3",
      "metadata": {
        "id": "96c7a6e3"
      },
      "outputs": [],
      "source": [
        "total_df.head()"
      ]
    },
    {
      "cell_type": "code",
      "execution_count": null,
      "id": "146ea9a3",
      "metadata": {
        "id": "146ea9a3"
      },
      "outputs": [],
      "source": [
        "total_df.dtypes"
      ]
    },
    {
      "cell_type": "code",
      "execution_count": null,
      "id": "f9110ca0",
      "metadata": {
        "id": "f9110ca0"
      },
      "outputs": [],
      "source": [
        "total_df['Stop']=total_df['Stop'].astype(int)"
      ]
    },
    {
      "cell_type": "code",
      "execution_count": null,
      "id": "68c500fb",
      "metadata": {
        "id": "68c500fb"
      },
      "outputs": [],
      "source": [
        "total_df.dtypes"
      ]
    },
    {
      "cell_type": "markdown",
      "id": "db4af08f",
      "metadata": {
        "id": "db4af08f"
      },
      "source": [
        "### Similarly we will try to convert all the features to numerical variables"
      ]
    },
    {
      "cell_type": "code",
      "execution_count": null,
      "id": "c865904c",
      "metadata": {
        "id": "c865904c"
      },
      "outputs": [],
      "source": [
        "total_df['Arrival_Hour'] = total_df['Arrival_Time'] .str.split(':').str[0]\n",
        "total_df['Arrival_Minute'] = total_df['Arrival_Time'] .str.split(':').str[1]"
      ]
    },
    {
      "cell_type": "code",
      "execution_count": null,
      "id": "5455f87c",
      "metadata": {
        "id": "5455f87c"
      },
      "outputs": [],
      "source": [
        "total_df['Arrival_Hour']=total_df['Arrival_Hour'].astype(int)\n",
        "total_df['Arrival_Minute']=total_df['Arrival_Minute'].astype(int)\n",
        "total_df=total_df.drop(['Arrival_Time'],axis=1)"
      ]
    },
    {
      "cell_type": "code",
      "execution_count": null,
      "id": "afe984e0",
      "metadata": {
        "id": "afe984e0"
      },
      "outputs": [],
      "source": [
        "total_df.head()"
      ]
    },
    {
      "cell_type": "code",
      "execution_count": null,
      "id": "de7bc2cf",
      "metadata": {
        "id": "de7bc2cf"
      },
      "outputs": [],
      "source": [
        "total_df['Departure_Hour'] = total_df['Dep_Time'] .str.split(':').str[0]\n",
        "total_df['Departure_Minute'] = total_df['Dep_Time'] .str.split(':').str[1]"
      ]
    },
    {
      "cell_type": "code",
      "execution_count": null,
      "id": "cdcf2456",
      "metadata": {
        "id": "cdcf2456"
      },
      "outputs": [],
      "source": [
        "total_df['Departure_Hour']=total_df['Departure_Hour'].astype(int)\n",
        "total_df['Departure_Minute']=total_df['Departure_Minute'].astype(int)\n",
        "total_df=total_df.drop(['Dep_Time'],axis=1)"
      ]
    },
    {
      "cell_type": "code",
      "execution_count": null,
      "id": "23ed1fbe",
      "metadata": {
        "id": "23ed1fbe"
      },
      "outputs": [],
      "source": [
        "total_df.head()"
      ]
    },
    {
      "cell_type": "markdown",
      "id": "c95d67a5",
      "metadata": {
        "id": "c95d67a5"
      },
      "source": [
        "### Let's devide the route into different columns"
      ]
    },
    {
      "cell_type": "code",
      "execution_count": null,
      "id": "69c1e568",
      "metadata": {
        "id": "69c1e568"
      },
      "outputs": [],
      "source": [
        "total_df['Route_1']= total_df['Route'].str.split('→ ').str[0]\n",
        "total_df['Route_2']= total_df['Route'].str.split('→ ').str[1]\n",
        "total_df['Route_3']= total_df['Route'].str.split('→ ').str[2]\n",
        "total_df['Route_4']= total_df['Route'].str.split('→ ').str[3]\n",
        "total_df['Route_5']= total_df['Route'].str.split('→ ').str[4]"
      ]
    },
    {
      "cell_type": "code",
      "execution_count": null,
      "id": "d8cd4cc9",
      "metadata": {
        "id": "d8cd4cc9"
      },
      "outputs": [],
      "source": [
        "total_df['Route_1'].fillna(\"None\",inplace=True)\n",
        "total_df['Route_2'].fillna(\"None\",inplace=True)\n",
        "total_df['Route_3'].fillna(\"None\",inplace=True)\n",
        "total_df['Route_4'].fillna(\"None\",inplace=True)\n",
        "total_df['Route_5'].fillna(\"None\",inplace=True)"
      ]
    },
    {
      "cell_type": "code",
      "execution_count": null,
      "id": "d338a750",
      "metadata": {
        "id": "d338a750"
      },
      "outputs": [],
      "source": [
        "total_df.head()"
      ]
    },
    {
      "cell_type": "code",
      "execution_count": null,
      "id": "c3ec1f73",
      "metadata": {
        "id": "c3ec1f73"
      },
      "outputs": [],
      "source": [
        "total_df=total_df.drop(['Route'],axis=1)\n",
        "total_df=total_df.drop(['Duration'],axis=1)"
      ]
    },
    {
      "cell_type": "code",
      "execution_count": null,
      "id": "f9ef1bf5",
      "metadata": {
        "id": "f9ef1bf5"
      },
      "outputs": [],
      "source": [
        "total_df.head()"
      ]
    },
    {
      "cell_type": "code",
      "execution_count": null,
      "id": "ccbd025b",
      "metadata": {
        "id": "ccbd025b"
      },
      "outputs": [],
      "source": [
        "total_df.isnull().sum()"
      ]
    },
    {
      "cell_type": "markdown",
      "id": "75393849",
      "metadata": {
        "id": "75393849"
      },
      "source": [
        "#### We will deal with price "
      ]
    },
    {
      "cell_type": "code",
      "execution_count": null,
      "id": "475d195a",
      "metadata": {
        "id": "475d195a"
      },
      "outputs": [],
      "source": [
        "total_df['Price'].fillna((total_df['Price'].mean()),inplace=True)"
      ]
    },
    {
      "cell_type": "code",
      "execution_count": null,
      "id": "90aa8b40",
      "metadata": {
        "id": "90aa8b40"
      },
      "outputs": [],
      "source": [
        "total_df.isnull().sum()"
      ]
    },
    {
      "cell_type": "code",
      "execution_count": null,
      "id": "507ae6ba",
      "metadata": {
        "id": "507ae6ba"
      },
      "outputs": [],
      "source": [
        "total_df.head()"
      ]
    },
    {
      "cell_type": "markdown",
      "id": "c760d693",
      "metadata": {
        "id": "c760d693"
      },
      "source": [
        "### Let us now convert all these varibales in the form our model can understand, here we will use Lable Enocoder\n"
      ]
    },
    {
      "cell_type": "code",
      "execution_count": null,
      "id": "efd63cd8",
      "metadata": {
        "id": "efd63cd8"
      },
      "outputs": [],
      "source": [
        "from sklearn.preprocessing import LabelEncoder"
      ]
    },
    {
      "cell_type": "code",
      "execution_count": null,
      "id": "576e7107",
      "metadata": {
        "id": "576e7107"
      },
      "outputs": [],
      "source": [
        "le= LabelEncoder()"
      ]
    },
    {
      "cell_type": "code",
      "execution_count": null,
      "id": "5ebed5f4",
      "metadata": {
        "id": "5ebed5f4"
      },
      "outputs": [],
      "source": [
        "total_df[\"Airline\"]=le.fit_transform(total_df['Airline'])\n",
        "total_df[\"Source\"]=le.fit_transform(total_df['Source'])\n",
        "total_df[\"Destination\"]=le.fit_transform(total_df['Destination'])\n",
        "total_df[\"Additional_Info\"]=le.fit_transform(total_df['Additional_Info'])\n",
        "total_df[\"Route_1\"]=le.fit_transform(total_df['Route_1'])\n",
        "total_df[\"Route_2\"]=le.fit_transform(total_df['Route_2'])\n",
        "total_df[\"Route_3\"]=le.fit_transform(total_df['Route_3'])\n",
        "total_df[\"Route_4\"]=le.fit_transform(total_df['Route_4'])\n",
        "total_df[\"Route_5\"]=le.fit_transform(total_df['Route_5'])"
      ]
    },
    {
      "cell_type": "code",
      "execution_count": null,
      "id": "528e418b",
      "metadata": {
        "id": "528e418b"
      },
      "outputs": [],
      "source": [
        "total_df.head()"
      ]
    },
    {
      "cell_type": "markdown",
      "id": "2337bcef",
      "metadata": {
        "id": "2337bcef"
      },
      "source": [
        "### We can also perform One Hot Encoding on the categorical variables"
      ]
    },
    {
      "cell_type": "markdown",
      "id": "4a50c10e",
      "metadata": {
        "id": "4a50c10e"
      },
      "source": [
        "### Let us drop the year column because we have the dataset of the same year"
      ]
    },
    {
      "cell_type": "code",
      "execution_count": null,
      "id": "b8cc2612",
      "metadata": {
        "id": "b8cc2612"
      },
      "outputs": [],
      "source": [
        "total_df= total_df.drop(['Year'], axis=1)"
      ]
    },
    {
      "cell_type": "code",
      "execution_count": null,
      "id": "6770dbb9",
      "metadata": {
        "id": "6770dbb9"
      },
      "outputs": [],
      "source": [
        "total_df.head()"
      ]
    },
    {
      "cell_type": "markdown",
      "id": "57c2f3a7",
      "metadata": {
        "id": "57c2f3a7"
      },
      "source": [
        "## Feature Selection"
      ]
    },
    {
      "cell_type": "markdown",
      "id": "db820106",
      "metadata": {
        "id": "db820106"
      },
      "source": [
        "### Now it is time for us to select the features which are of the most importance"
      ]
    },
    {
      "cell_type": "code",
      "execution_count": null,
      "id": "0955341e",
      "metadata": {
        "id": "0955341e"
      },
      "outputs": [],
      "source": [
        "x= total_df.drop(['Price'],axis=1)\n",
        "y= total_df['Price']"
      ]
    },
    {
      "cell_type": "code",
      "execution_count": null,
      "id": "ec701abd",
      "metadata": {
        "id": "ec701abd"
      },
      "outputs": [],
      "source": [
        "x.head()"
      ]
    },
    {
      "cell_type": "code",
      "execution_count": null,
      "id": "2ecacef2",
      "metadata": {
        "id": "2ecacef2"
      },
      "outputs": [],
      "source": [
        "y.head()"
      ]
    },
    {
      "cell_type": "code",
      "execution_count": null,
      "id": "266b67fd",
      "metadata": {
        "id": "266b67fd"
      },
      "outputs": [],
      "source": [
        "from sklearn.linear_model import Lasso\n",
        "from sklearn.feature_selection import SelectFromModel"
      ]
    },
    {
      "cell_type": "code",
      "execution_count": null,
      "id": "46f380f0",
      "metadata": {
        "id": "46f380f0"
      },
      "outputs": [],
      "source": [
        "from sklearn.model_selection import train_test_split\n",
        "x_train,x_test,y_train,y_test=train_test_split(x,y,test_size=0.3,random_state=0)"
      ]
    },
    {
      "cell_type": "code",
      "execution_count": null,
      "id": "aa88e24e",
      "metadata": {
        "id": "aa88e24e"
      },
      "outputs": [],
      "source": [
        "model=SelectFromModel(Lasso(alpha=0.005,random_state=0))"
      ]
    },
    {
      "cell_type": "code",
      "execution_count": null,
      "id": "bb999c6c",
      "metadata": {
        "id": "bb999c6c"
      },
      "outputs": [],
      "source": [
        "model.fit(x_train,y_train)"
      ]
    },
    {
      "cell_type": "code",
      "execution_count": null,
      "id": "941d59a8",
      "metadata": {
        "id": "941d59a8"
      },
      "outputs": [],
      "source": [
        "model.get_support()"
      ]
    },
    {
      "cell_type": "code",
      "execution_count": null,
      "id": "2635851a",
      "metadata": {
        "id": "2635851a"
      },
      "outputs": [],
      "source": [
        "selected_features=x_train.columns[(model.get_support())]"
      ]
    },
    {
      "cell_type": "code",
      "execution_count": null,
      "id": "ece780ee",
      "metadata": {
        "id": "ece780ee"
      },
      "outputs": [],
      "source": [
        "selected_features"
      ]
    },
    {
      "cell_type": "markdown",
      "id": "c5fb3f07",
      "metadata": {
        "id": "c5fb3f07"
      },
      "source": [
        "### These are our selected features"
      ]
    },
    {
      "cell_type": "code",
      "execution_count": null,
      "id": "4f48ccad",
      "metadata": {
        "id": "4f48ccad"
      },
      "outputs": [],
      "source": [
        "from sklearn.ensemble import ExtraTreesRegressor"
      ]
    },
    {
      "cell_type": "code",
      "execution_count": null,
      "id": "138693b0",
      "metadata": {
        "id": "138693b0"
      },
      "outputs": [],
      "source": [
        "etr = ExtraTreesRegressor()\n",
        "etr.fit(x_train,y_train)"
      ]
    },
    {
      "cell_type": "code",
      "execution_count": null,
      "id": "30b1391d",
      "metadata": {
        "id": "30b1391d"
      },
      "outputs": [],
      "source": [
        "plt.style.use(\"ggplot\")\n",
        "plt.figure(figsize = (15,8))\n",
        "feature_importances = pd.Series(etr.feature_importances_, index=x.columns)\n",
        "feature_importances.nlargest(35).plot(kind='bar')\n",
        "plt.show()"
      ]
    },
    {
      "cell_type": "markdown",
      "id": "685662d9",
      "metadata": {
        "id": "685662d9"
      },
      "source": [
        "### Importing our model"
      ]
    },
    {
      "cell_type": "code",
      "execution_count": null,
      "id": "7fd6aa13",
      "metadata": {
        "id": "7fd6aa13"
      },
      "outputs": [],
      "source": [
        "from sklearn.ensemble import RandomForestRegressor\n",
        "reg_rf = RandomForestRegressor()\n",
        "reg_rf.fit(x_train, y_train)"
      ]
    },
    {
      "cell_type": "code",
      "execution_count": null,
      "id": "7e383e9e",
      "metadata": {
        "id": "7e383e9e"
      },
      "outputs": [],
      "source": [
        "y_pred = reg_rf.predict(x_test)"
      ]
    },
    {
      "cell_type": "code",
      "execution_count": null,
      "id": "bae5c639",
      "metadata": {
        "id": "bae5c639"
      },
      "outputs": [],
      "source": [
        "reg_rf.score(x_train, y_train)"
      ]
    },
    {
      "cell_type": "code",
      "execution_count": null,
      "id": "7a7ffb34",
      "metadata": {
        "id": "7a7ffb34"
      },
      "outputs": [],
      "source": [
        "reg_rf.score(x_test, y_test)"
      ]
    },
    {
      "cell_type": "code",
      "execution_count": null,
      "id": "81231dc4",
      "metadata": {
        "id": "81231dc4"
      },
      "outputs": [],
      "source": [
        "plt.style.use(\"ggplot\")\n",
        "plt.figure(figsize=(12,8))\n",
        "sns.distplot(y_test-y_pred)\n",
        "plt.show()"
      ]
    },
    {
      "cell_type": "code",
      "execution_count": null,
      "id": "c91a14be",
      "metadata": {
        "id": "c91a14be"
      },
      "outputs": [],
      "source": [
        "plt.figure(figsize=(12,8))\n",
        "plt.style.use(\"ggplot\")\n",
        "plt.scatter(y_test, y_pred, alpha = 0.5)\n",
        "plt.xlabel(\"y_test\")\n",
        "plt.ylabel(\"y_pred\")\n",
        "plt.show()"
      ]
    },
    {
      "cell_type": "code",
      "execution_count": null,
      "id": "8c2b4bc7",
      "metadata": {
        "id": "8c2b4bc7"
      },
      "outputs": [],
      "source": [
        "from sklearn import metrics\n",
        "\n",
        "print('MAE:', metrics.mean_absolute_error(y_test, y_pred))\n",
        "print('MSE:', metrics.mean_squared_error(y_test, y_pred))\n",
        "print('RMSE:', np.sqrt(metrics.mean_squared_error(y_test, y_pred)))"
      ]
    },
    {
      "cell_type": "code",
      "execution_count": null,
      "id": "fddf8aa0",
      "metadata": {
        "id": "fddf8aa0"
      },
      "outputs": [],
      "source": [
        "metrics.r2_score(y_test, y_pred)"
      ]
    },
    {
      "cell_type": "markdown",
      "id": "35289b3c",
      "metadata": {
        "id": "35289b3c"
      },
      "source": [
        "### Hypertuning our Model"
      ]
    },
    {
      "cell_type": "code",
      "execution_count": null,
      "id": "0f90e488",
      "metadata": {
        "id": "0f90e488"
      },
      "outputs": [],
      "source": [
        "from sklearn.model_selection import RandomizedSearchCV"
      ]
    },
    {
      "cell_type": "code",
      "execution_count": null,
      "id": "bca10775",
      "metadata": {
        "id": "bca10775"
      },
      "outputs": [],
      "source": [
        "# Number of trees in random forest\n",
        "n_estimators = [int(x) for x in np.linspace(start = 100, stop = 1500, num = 15)]\n",
        "# Number of features to consider at every split\n",
        "max_features = ['auto', 'sqrt']\n",
        "# Maximum number of levels in tree\n",
        "max_depth = [int(x) for x in np.linspace(5, 30, num = 6)]\n",
        "# Minimum number of samples required to split a node\n",
        "min_samples_split = [2, 3, 5, 7, 10, 15, 100]\n",
        "# Minimum number of samples required at each leaf node\n",
        "min_samples_leaf = [1, 2,3, 5,8, 10]"
      ]
    },
    {
      "cell_type": "code",
      "execution_count": null,
      "id": "7c2645a8",
      "metadata": {
        "id": "7c2645a8"
      },
      "outputs": [],
      "source": [
        "param_grid = {'n_estimators': n_estimators,\n",
        "               'max_features': max_features,\n",
        "               'max_depth': max_depth,\n",
        "               'min_samples_split': min_samples_split,\n",
        "               'min_samples_leaf': min_samples_leaf}"
      ]
    },
    {
      "cell_type": "code",
      "execution_count": null,
      "id": "1486e76a",
      "metadata": {
        "id": "1486e76a"
      },
      "outputs": [],
      "source": [
        "rf_random = RandomizedSearchCV(estimator = reg_rf, param_distributions = param_grid,scoring='neg_mean_squared_error', n_iter = 50, cv = 5,\n",
        "                               verbose=2, random_state=42, n_jobs = 3)"
      ]
    },
    {
      "cell_type": "code",
      "execution_count": null,
      "id": "a9c321ce",
      "metadata": {
        "id": "a9c321ce"
      },
      "outputs": [],
      "source": [
        "rf_random.fit(x_train,y_train)"
      ]
    },
    {
      "cell_type": "code",
      "execution_count": null,
      "id": "d0655797",
      "metadata": {
        "id": "d0655797"
      },
      "outputs": [],
      "source": [
        "rf_random.best_params_"
      ]
    },
    {
      "cell_type": "code",
      "execution_count": null,
      "id": "5d81593d",
      "metadata": {
        "id": "5d81593d"
      },
      "outputs": [],
      "source": [
        "reg_rf = RandomForestRegressor(n_estimators= 700,\n",
        " min_samples_split=3,\n",
        " min_samples_leaf= 1,\n",
        " max_features='sqrt',\n",
        " max_depth= 15)"
      ]
    },
    {
      "cell_type": "code",
      "execution_count": null,
      "id": "ac4c832d",
      "metadata": {
        "id": "ac4c832d"
      },
      "outputs": [],
      "source": [
        "reg_rf.fit(x_train,y_train)"
      ]
    },
    {
      "cell_type": "code",
      "execution_count": null,
      "id": "6217f483",
      "metadata": {
        "id": "6217f483"
      },
      "outputs": [],
      "source": [
        "ypred1= reg_rf.predict(x_test)"
      ]
    },
    {
      "cell_type": "code",
      "execution_count": null,
      "id": "4386770a",
      "metadata": {
        "id": "4386770a"
      },
      "outputs": [],
      "source": [
        "ypred1"
      ]
    },
    {
      "cell_type": "code",
      "execution_count": null,
      "id": "e6f7ce2f",
      "metadata": {
        "id": "e6f7ce2f"
      },
      "outputs": [],
      "source": [
        "plt.style.use(\"ggplot\")\n",
        "plt.figure(figsize=(12,8))\n",
        "sns.distplot(y_test-ypred1)\n",
        "plt.show()"
      ]
    },
    {
      "cell_type": "code",
      "execution_count": null,
      "id": "8b72a9ea",
      "metadata": {
        "id": "8b72a9ea"
      },
      "outputs": [],
      "source": [
        "plt.figure(figsize=(12,8))\n",
        "plt.style.use(\"ggplot\")\n",
        "plt.scatter(y_test, ypred1, alpha = 0.5)\n",
        "plt.xlabel(\"y_test\")\n",
        "plt.ylabel(\"y_predq\")\n",
        "plt.show()"
      ]
    },
    {
      "cell_type": "code",
      "execution_count": null,
      "id": "a944efee",
      "metadata": {
        "id": "a944efee"
      },
      "outputs": [],
      "source": [
        "from sklearn import metrics\n",
        "\n",
        "print('MAE:', metrics.mean_absolute_error(y_test, ypred1))\n",
        "print('MSE:', metrics.mean_squared_error(y_test, ypred1))\n",
        "print('RMSE:', np.sqrt(metrics.mean_squared_error(y_test, ypred1)))"
      ]
    },
    {
      "cell_type": "code",
      "execution_count": null,
      "id": "0ad65187",
      "metadata": {
        "id": "0ad65187"
      },
      "outputs": [],
      "source": [
        "metrics.r2_score(y_test, ypred1)"
      ]
    },
    {
      "cell_type": "code",
      "execution_count": null,
      "id": "1f659789",
      "metadata": {
        "id": "1f659789"
      },
      "outputs": [],
      "source": [
        "!apt-get install swig -y\n",
        "!pip install Cython numpy\n",
        "!pip install auto-sklearn"
      ]
    },
    {
      "cell_type": "code",
      "execution_count": null,
      "id": "46d11ce0",
      "metadata": {
        "id": "46d11ce0"
      },
      "outputs": [],
      "source": [
        "import autosklearn"
      ]
    },
    {
      "cell_type": "code",
      "execution_count": null,
      "id": "357ff68b",
      "metadata": {
        "id": "357ff68b"
      },
      "outputs": [],
      "source": [
        "import autosklearn.regression as reg"
      ]
    },
    {
      "cell_type": "code",
      "execution_count": null,
      "id": "FJgdO-Nhq6vs",
      "metadata": {
        "id": "FJgdO-Nhq6vs"
      },
      "outputs": [],
      "source": [
        "from google.colab import drive\n",
        "drive.mount('/content/drive')"
      ]
    },
    {
      "cell_type": "code",
      "execution_count": null,
      "id": "1-n47u9Gq7OV",
      "metadata": {
        "id": "1-n47u9Gq7OV"
      },
      "outputs": [],
      "source": [
        "df= pd.read_csv(\"/content/drive/MyDrive/flight data.csv\")"
      ]
    },
    {
      "cell_type": "code",
      "execution_count": null,
      "id": "qyL27lmmrOVX",
      "metadata": {
        "id": "qyL27lmmrOVX"
      },
      "outputs": [],
      "source": [
        "df.head()"
      ]
    },
    {
      "cell_type": "code",
      "execution_count": null,
      "id": "FXC8v-PprS4I",
      "metadata": {
        "id": "FXC8v-PprS4I"
      },
      "outputs": [],
      "source": [
        "df1= pd.read_csv(\"/content/drive/MyDrive/flight test.csv\")"
      ]
    },
    {
      "cell_type": "markdown",
      "id": "Sf7_WWwysxpB",
      "metadata": {
        "id": "Sf7_WWwysxpB"
      },
      "source": [
        "We will use the same x_train and y_train data"
      ]
    },
    {
      "cell_type": "code",
      "execution_count": null,
      "id": "FiqsmqIprzZJ",
      "metadata": {
        "id": "FiqsmqIprzZJ"
      },
      "outputs": [],
      "source": [
        "x_train"
      ]
    },
    {
      "cell_type": "code",
      "execution_count": null,
      "id": "hMREOIdvs2Mn",
      "metadata": {
        "id": "hMREOIdvs2Mn"
      },
      "outputs": [],
      "source": [
        "automl = reg.AutoSklearnRegressor(time_left_for_this_task=120,per_run_time_limit=30)"
      ]
    },
    {
      "cell_type": "code",
      "execution_count": null,
      "id": "wgis8r_NtG6b",
      "metadata": {
        "id": "wgis8r_NtG6b"
      },
      "outputs": [],
      "source": [
        "automl.fit(x_train,y_train)"
      ]
    },
    {
      "cell_type": "code",
      "execution_count": null,
      "id": "hzsUqEs0vDlK",
      "metadata": {
        "id": "hzsUqEs0vDlK"
      },
      "outputs": [],
      "source": [
        "print(automl.leaderboard())"
      ]
    },
    {
      "cell_type": "code",
      "execution_count": null,
      "id": "S9o3zz_hvIbb",
      "metadata": {
        "id": "S9o3zz_hvIbb"
      },
      "outputs": [],
      "source": [
        "print(automl.show_models())"
      ]
    },
    {
      "cell_type": "code",
      "execution_count": null,
      "id": "ivPW9k9ttJ8A",
      "metadata": {
        "id": "ivPW9k9ttJ8A"
      },
      "outputs": [],
      "source": [
        "ypred2= automl.predict(x_test)"
      ]
    },
    {
      "cell_type": "code",
      "execution_count": null,
      "id": "MPMipxt8t7s0",
      "metadata": {
        "id": "MPMipxt8t7s0"
      },
      "outputs": [],
      "source": [
        "ypred2"
      ]
    },
    {
      "cell_type": "code",
      "execution_count": null,
      "id": "xwe9jXbEt9vg",
      "metadata": {
        "id": "xwe9jXbEt9vg"
      },
      "outputs": [],
      "source": [
        "plt.style.use(\"ggplot\")\n",
        "plt.figure(figsize=(12,8))\n",
        "sns.distplot(y_test-ypred2)\n",
        "plt.show()"
      ]
    },
    {
      "cell_type": "code",
      "execution_count": null,
      "id": "khIQG32juMDU",
      "metadata": {
        "id": "khIQG32juMDU"
      },
      "outputs": [],
      "source": [
        "plt.figure(figsize=(12,8))\n",
        "plt.style.use(\"ggplot\")\n",
        "plt.scatter(y_test, ypred2, alpha = 0.5)\n",
        "plt.xlabel(\"y_test\")\n",
        "plt.ylabel(\"ypred2\")\n",
        "plt.show()"
      ]
    },
    {
      "cell_type": "code",
      "execution_count": null,
      "id": "wzJHIRO6uRSn",
      "metadata": {
        "id": "wzJHIRO6uRSn"
      },
      "outputs": [],
      "source": [
        "from sklearn import metrics\n",
        "\n",
        "print('MAE:', metrics.mean_absolute_error(y_test, ypred2))\n",
        "print('MSE:', metrics.mean_squared_error(y_test, ypred2))\n",
        "print('RMSE:', np.sqrt(metrics.mean_squared_error(y_test, ypred2)))"
      ]
    },
    {
      "cell_type": "code",
      "execution_count": null,
      "id": "fcmQW0NwxdCi",
      "metadata": {
        "id": "fcmQW0NwxdCi"
      },
      "outputs": [],
      "source": []
    }
  ],
  "metadata": {
    "colab": {
      "collapsed_sections": [
        "8d3b4af4",
        "2337bcef",
        "35289b3c"
      ],
      "name": "Flight Fare Prediction.ipynb",
      "provenance": []
    },
    "kernelspec": {
      "display_name": "Python 3",
      "language": "python",
      "name": "python3"
    },
    "language_info": {
      "codemirror_mode": {
        "name": "ipython",
        "version": 3
      },
      "file_extension": ".py",
      "mimetype": "text/x-python",
      "name": "python",
      "nbconvert_exporter": "python",
      "pygments_lexer": "ipython3",
      "version": "3.8.8"
    }
  },
  "nbformat": 4,
  "nbformat_minor": 5
}
